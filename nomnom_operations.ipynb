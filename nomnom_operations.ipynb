{
 "cells": [
  {
   "cell_type": "markdown",
   "metadata": {},
   "source": [
    "# MDT Operations Playbook for the Necronomicon Laptop\n",
    "\n",
    "## Initial Setup\n",
    "1. Import required packages:"
   ]
  },
  {
   "cell_type": "code",
   "execution_count": 19,
   "metadata": {},
   "outputs": [
    {
     "name": "stdout",
     "output_type": "stream",
     "text": [
      "Imports Done\n"
     ]
    }
   ],
   "source": [
    "import os\n",
    "import netifaces\n",
    "print(\"Imports Done\")"
   ]
  },
  {
   "cell_type": "markdown",
   "metadata": {},
   "source": [
    "2. Update suricata signatures."
   ]
  },
  {
   "cell_type": "code",
   "execution_count": 20,
   "metadata": {},
   "outputs": [
    {
     "name": "stdout",
     "output_type": "stream",
     "text": [
      "9/9/2022 -- 15:49:58 - <Info> -- Using data-directory /var/lib/suricata.\n",
      "9/9/2022 -- 15:49:58 - <Info> -- Using Suricata configuration /etc/suricata/suricata.yaml\n",
      "9/9/2022 -- 15:49:58 - <Info> -- Using /etc/suricata/rules for Suricata provided rules.\n",
      "9/9/2022 -- 15:49:58 - <Info> -- Found Suricata version 6.0.6 at /usr/bin/suricata.\n",
      "9/9/2022 -- 15:49:58 - <Info> -- Loading /etc/suricata/suricata.yaml\n",
      "9/9/2022 -- 15:49:58 - <Info> -- Disabling rules for protocol mqtt\n",
      "9/9/2022 -- 15:49:58 - <Info> -- Disabling rules for protocol http2\n",
      "9/9/2022 -- 15:49:58 - <Info> -- Disabling rules for protocol dnp3\n",
      "9/9/2022 -- 15:49:58 - <Info> -- Disabling rules for protocol enip\n",
      "9/9/2022 -- 15:49:58 - <Info> -- Checking https://malsilo.gitlab.io/feeds/dumps/malsilo.rules.tar.gz.md5.\n",
      "9/9/2022 -- 15:49:58 - <Info> -- Remote checksum has not changed. Not fetching.\n",
      "9/9/2022 -- 15:49:58 - <Info> -- Fetching https://security.etnetera.cz/feeds/etn_aggressive.rules.\n",
      "9/9/2022 -- 15:50:06 - <Info> -- Done.\n",
      "9/9/2022 -- 15:50:06 - <Info> -- Fetching https://raw.githubusercontent.com/travisbgreen/hunting-rules/master/hunting.rules.\n",
      "9/9/2022 -- 15:50:06 - <Info> -- Done.\n",
      "9/9/2022 -- 15:50:06 - <Info> -- Fetching https://sslbl.abuse.ch/blacklist/ja3_fingerprints.rules.\n",
      "9/9/2022 -- 15:50:07 - <Info> -- Done.\n",
      "9/9/2022 -- 15:50:07 - <Info> -- Checking https://rules.emergingthreats.net/open/suricata-6.0.6/emerging.rules.tar.gz.md5.\n",
      "9/9/2022 -- 15:50:08 - <Info> -- Remote checksum has not changed. Not fetching.\n",
      "9/9/2022 -- 15:50:08 - <Info> -- Fetching https://openinfosecfoundation.org/rules/trafficid/trafficid.rules.\n",
      "9/9/2022 -- 15:50:08 - <Info> -- Done.\n",
      "9/9/2022 -- 15:50:08 - <Info> -- Fetching https://sslbl.abuse.ch/blacklist/sslblacklist.rules.\n",
      "9/9/2022 -- 15:50:09 - <Info> -- Done.\n",
      "9/9/2022 -- 15:50:09 - <Info> -- Loading distribution rule file /etc/suricata/rules/app-layer-events.rules\n",
      "9/9/2022 -- 15:50:09 - <Info> -- Loading distribution rule file /etc/suricata/rules/decoder-events.rules\n",
      "9/9/2022 -- 15:50:09 - <Info> -- Loading distribution rule file /etc/suricata/rules/dhcp-events.rules\n",
      "9/9/2022 -- 15:50:09 - <Info> -- Loading distribution rule file /etc/suricata/rules/dnp3-events.rules\n",
      "9/9/2022 -- 15:50:09 - <Info> -- Loading distribution rule file /etc/suricata/rules/dns-events.rules\n",
      "9/9/2022 -- 15:50:09 - <Info> -- Loading distribution rule file /etc/suricata/rules/files.rules\n",
      "9/9/2022 -- 15:50:09 - <Info> -- Loading distribution rule file /etc/suricata/rules/http-events.rules\n",
      "9/9/2022 -- 15:50:09 - <Info> -- Loading distribution rule file /etc/suricata/rules/ipsec-events.rules\n",
      "9/9/2022 -- 15:50:09 - <Info> -- Loading distribution rule file /etc/suricata/rules/kerberos-events.rules\n",
      "9/9/2022 -- 15:50:09 - <Info> -- Loading distribution rule file /etc/suricata/rules/modbus-events.rules\n",
      "9/9/2022 -- 15:50:09 - <Info> -- Loading distribution rule file /etc/suricata/rules/nfs-events.rules\n",
      "9/9/2022 -- 15:50:09 - <Info> -- Loading distribution rule file /etc/suricata/rules/ntp-events.rules\n",
      "9/9/2022 -- 15:50:09 - <Info> -- Loading distribution rule file /etc/suricata/rules/smb-events.rules\n",
      "9/9/2022 -- 15:50:09 - <Info> -- Loading distribution rule file /etc/suricata/rules/smtp-events.rules\n",
      "9/9/2022 -- 15:50:09 - <Info> -- Loading distribution rule file /etc/suricata/rules/stream-events.rules\n",
      "9/9/2022 -- 15:50:09 - <Info> -- Loading distribution rule file /etc/suricata/rules/tls-events.rules\n",
      "9/9/2022 -- 15:50:09 - <Info> -- Ignoring file rules/emerging-deleted.rules\n",
      "9/9/2022 -- 15:50:12 - <Info> -- Loaded 42676 rules.\n",
      "9/9/2022 -- 15:50:13 - <Info> -- Disabled 5 rules.\n",
      "9/9/2022 -- 15:50:13 - <Info> -- Enabled 0 rules.\n",
      "9/9/2022 -- 15:50:13 - <Info> -- Modified 0 rules.\n",
      "9/9/2022 -- 15:50:13 - <Info> -- Dropped 0 rules.\n",
      "9/9/2022 -- 15:50:13 - <Info> -- Enabled 131 rules for flowbit dependencies.\n",
      "9/9/2022 -- 15:50:13 - <Info> -- Backing up current rules.\n",
      "9/9/2022 -- 15:50:16 - <Info> -- Writing rules to /var/lib/suricata/rules/suricata.rules: total: 42425; enabled: 34843; added: 0; removed 0; modified: 251\n",
      "9/9/2022 -- 15:50:17 - <Info> -- Writing /var/lib/suricata/rules/classification.config\n",
      "9/9/2022 -- 15:50:17 - <Info> -- Testing with suricata -T.\n",
      "9/9/2022 -- 15:50:48 - <Info> -- Done.\n"
     ]
    },
    {
     "data": {
      "text/plain": [
       "0"
      ]
     },
     "execution_count": 20,
     "metadata": {},
     "output_type": "execute_result"
    }
   ],
   "source": [
    "os.system(\"sudo suricata-update\")"
   ]
  },
  {
   "cell_type": "markdown",
   "metadata": {},
   "source": [
    "3. Validate Disk Usage"
   ]
  },
  {
   "cell_type": "code",
   "execution_count": 8,
   "metadata": {},
   "outputs": [
    {
     "name": "stdout",
     "output_type": "stream",
     "text": [
      "/dev/sda2 6% /\n"
     ]
    },
    {
     "data": {
      "text/plain": [
       "0"
      ]
     },
     "execution_count": 8,
     "metadata": {},
     "output_type": "execute_result"
    }
   ],
   "source": [
    "os.system(\"sudo df -h | awk '{ if ($6==\\\"/\\\") print $1,$5,$6 }'\")"
   ]
  },
  {
   "cell_type": "markdown",
   "metadata": {},
   "source": [
    "## Elastic Stack Operation"
   ]
  },
  {
   "cell_type": "markdown",
   "metadata": {},
   "source": [
    "If you want to review prior analysis, or get ready to injest data into the elk stack for analysis, first start the elastic containers."
   ]
  },
  {
   "cell_type": "code",
   "execution_count": 4,
   "metadata": {},
   "outputs": [
    {
     "name": "stdout",
     "output_type": "stream",
     "text": [
      "es01\n",
      "kibana\n"
     ]
    },
    {
     "data": {
      "text/plain": [
       "0"
      ]
     },
     "execution_count": 4,
     "metadata": {},
     "output_type": "execute_result"
    }
   ],
   "source": [
    "os.system(\"sudo docker start es01\")\n",
    "os.system(\"sudo docker start kibana\")\n",
    "# check"
   ]
  },
  {
   "cell_type": "markdown",
   "metadata": {},
   "source": [
    "# Collection and Analysis\n",
    "## Capture or Load PCAP\n",
    "Whether you are loading a PCAP from another source. Or capturing from this device. The PCAP should be copied into the **/home/mdtoperator/collected_pcaps** folder.\n",
    "\n",
    "### Collect Live Data\n",
    "\n",
    "1. Run tcpdump agains the desired interface."
   ]
  },
  {
   "cell_type": "code",
   "execution_count": 18,
   "metadata": {},
   "outputs": [
    {
     "name": "stdout",
     "output_type": "stream",
     "text": [
      "Ethernet Interface:enp0s31f6\n",
      "Wifi Interface: wlp2s0\n"
     ]
    }
   ],
   "source": [
    "netifaces; if_list = netifaces.interfaces()\n",
    "\n",
    "print(\"Ethernet Interface: \" + if_list[1])\n",
    "print(\"Wifi Interface: \" + if_list[2])"
   ]
  },
  {
   "cell_type": "markdown",
   "metadata": {},
   "source": [
    "Note the interface that you want to capture from above and modify the <interface> in the below command to begin capturing."
   ]
  },
  {
   "cell_type": "code",
   "execution_count": null,
   "metadata": {},
   "outputs": [],
   "source": [
    "os.system(\"sudo tcpdump -i <interface> -w /home/mdtoperator/collected_pcaps\")"
   ]
  },
  {
   "cell_type": "markdown",
   "metadata": {},
   "source": [
    "## Zeek Analysis\n",
    "First, run zeek against the new pcaps in the collected_pcaps folder. This will dump the zeek logs in the configured folder."
   ]
  },
  {
   "cell_type": "code",
   "execution_count": null,
   "metadata": {},
   "outputs": [],
   "source": [
    "os.system(\"sudo zeek -r /home/mdtoperator/Desktop/collected_pcaps/<pcap_name> LogAscii::use_json=T Log::default_logdir=/usr/local/zeek/logs/current\")"
   ]
  },
  {
   "cell_type": "markdown",
   "metadata": {},
   "source": [
    "## Suricata Analsysis\n",
    "Now run suricata agains the new pcap in the collected_pcaps folder. This will dump the suricata logs in the configured folder."
   ]
  },
  {
   "cell_type": "code",
   "execution_count": null,
   "metadata": {},
   "outputs": [],
   "source": [
    "os.system(\"sudo suricata -c /etc/suricata/suricata.yaml -r /home/mdtoperator/Desktop/collected_pcaps/<pcap_name> -k none -l /var/log/suricata/\")"
   ]
  },
  {
   "cell_type": "markdown",
   "metadata": {},
   "source": [
    "## Filebeat Into Elastic"
   ]
  },
  {
   "cell_type": "code",
   "execution_count": null,
   "metadata": {},
   "outputs": [],
   "source": [
    "os.system(\"sudo filebeat -e\")\n",
    "os.system(\"browser http://0.0.0.0:5601\")"
   ]
  },
  {
   "cell_type": "markdown",
   "metadata": {},
   "source": [
    "The browser will open to Kiban for you to browse through your new data."
   ]
  }
 ],
 "metadata": {
  "kernelspec": {
   "display_name": "Python 3.10.7 64-bit (microsoft store)",
   "language": "python",
   "name": "python3"
  },
  "language_info": {
   "codemirror_mode": {
    "name": "ipython",
    "version": 3
   },
   "file_extension": ".py",
   "mimetype": "text/x-python",
   "name": "python",
   "nbconvert_exporter": "python",
   "pygments_lexer": "ipython3",
   "version": "3.10.7"
  },
  "orig_nbformat": 4,
  "vscode": {
   "interpreter": {
    "hash": "499792f98f1b3888e2df69f65f03b835aee32ab94a4561d2a4a7d06d139baf38"
   }
  }
 },
 "nbformat": 4,
 "nbformat_minor": 2
}
